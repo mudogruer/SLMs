{
  "cells": [
    {
      "cell_type": "markdown",
      "metadata": {
        "id": "view-in-github",
        "colab_type": "text"
      },
      "source": [
        "<a href=\"https://colab.research.google.com/github/mudogruer/SLMs/blob/main/phi-2/phi_2_load_adapters_with_hf_peft.ipynb\" target=\"_parent\"><img src=\"https://colab.research.google.com/assets/colab-badge.svg\" alt=\"Open In Colab\"/></a>"
      ]
    },
    {
      "cell_type": "code",
      "execution_count": null,
      "metadata": {
        "execution": {
          "iopub.execute_input": "2024-02-21T20:38:42.338986Z",
          "iopub.status.busy": "2024-02-21T20:38:42.338213Z",
          "iopub.status.idle": "2024-02-21T20:39:35.045815Z",
          "shell.execute_reply": "2024-02-21T20:39:35.044544Z",
          "shell.execute_reply.started": "2024-02-21T20:38:42.338954Z"
        },
        "id": "VInpV5Ek8fm7"
      },
      "outputs": [],
      "source": [
        "!pip install -q -U peft bitsandbytes"
      ]
    },
    {
      "cell_type": "code",
      "execution_count": null,
      "metadata": {
        "execution": {
          "iopub.execute_input": "2024-02-21T20:40:16.808046Z",
          "iopub.status.busy": "2024-02-21T20:40:16.807689Z",
          "iopub.status.idle": "2024-02-21T20:40:24.437718Z",
          "shell.execute_reply": "2024-02-21T20:40:24.436926Z",
          "shell.execute_reply.started": "2024-02-21T20:40:16.808016Z"
        },
        "id": "HKcZy3mY8fm8"
      },
      "outputs": [],
      "source": [
        "from peft import PeftConfig"
      ]
    },
    {
      "cell_type": "code",
      "execution_count": null,
      "metadata": {
        "execution": {
          "iopub.execute_input": "2024-02-21T20:40:27.495958Z",
          "iopub.status.busy": "2024-02-21T20:40:27.495469Z",
          "iopub.status.idle": "2024-02-21T20:40:27.500243Z",
          "shell.execute_reply": "2024-02-21T20:40:27.499285Z",
          "shell.execute_reply.started": "2024-02-21T20:40:27.495927Z"
        },
        "id": "jkGhMfxh8fm9"
      },
      "outputs": [],
      "source": [
        "peft_model_id = \"mudogruer/Phi-2-hf-SciQ-20pc\""
      ]
    },
    {
      "cell_type": "code",
      "execution_count": null,
      "metadata": {
        "colab": {
          "referenced_widgets": [
            "97767797878c4438bbabcce0a5568119",
            "8ef45c02f794461d9922f5c951d23864"
          ]
        },
        "execution": {
          "iopub.execute_input": "2024-02-21T20:40:29.481118Z",
          "iopub.status.busy": "2024-02-21T20:40:29.480470Z",
          "iopub.status.idle": "2024-02-21T20:40:29.812872Z",
          "shell.execute_reply": "2024-02-21T20:40:29.812019Z",
          "shell.execute_reply.started": "2024-02-21T20:40:29.481087Z"
        },
        "id": "0TU9AM6R8fm9",
        "outputId": "ee20538a-1873-46d7-ac56-dcbc6cb03c47"
      },
      "outputs": [
        {
          "data": {
            "application/vnd.jupyter.widget-view+json": {
              "model_id": "8ef45c02f794461d9922f5c951d23864",
              "version_major": 2,
              "version_minor": 0
            },
            "text/plain": [
              "adapter_config.json:   0%|          | 0.00/682 [00:00<?, ?B/s]"
            ]
          },
          "metadata": {},
          "output_type": "display_data"
        }
      ],
      "source": [
        "config = PeftConfig.from_pretrained(peft_model_id)"
      ]
    },
    {
      "cell_type": "code",
      "execution_count": null,
      "metadata": {
        "execution": {
          "iopub.execute_input": "2024-02-21T20:40:31.700821Z",
          "iopub.status.busy": "2024-02-21T20:40:31.700445Z",
          "iopub.status.idle": "2024-02-21T20:40:31.705615Z",
          "shell.execute_reply": "2024-02-21T20:40:31.704632Z",
          "shell.execute_reply.started": "2024-02-21T20:40:31.700791Z"
        },
        "id": "JoLqrfQL8fm-"
      },
      "outputs": [],
      "source": [
        "from transformers import BitsAndBytesConfig\n",
        "from transformers import AutoModelForCausalLM"
      ]
    },
    {
      "cell_type": "code",
      "execution_count": null,
      "metadata": {
        "colab": {
          "referenced_widgets": [
            "24cde6130abd4c5fbd4d36990f603058"
          ]
        },
        "execution": {
          "iopub.execute_input": "2024-01-31T17:03:39.377741Z",
          "iopub.status.busy": "2024-01-31T17:03:39.376999Z",
          "iopub.status.idle": "2024-01-31T17:03:39.404273Z",
          "shell.execute_reply": "2024-01-31T17:03:39.403499Z",
          "shell.execute_reply.started": "2024-01-31T17:03:39.377711Z"
        },
        "id": "Van-AkhG8fm-",
        "outputId": "9a776cd5-a3b2-4b90-c779-3877875e1f62"
      },
      "outputs": [
        {
          "data": {
            "application/vnd.jupyter.widget-view+json": {
              "model_id": "24cde6130abd4c5fbd4d36990f603058",
              "version_major": 2,
              "version_minor": 0
            },
            "text/plain": [
              "VBox(children=(HTML(value='<center> <img\\nsrc=https://huggingface.co/front/assets/huggingface_logo-noborder.sv…"
            ]
          },
          "metadata": {},
          "output_type": "display_data"
        }
      ],
      "source": [
        "from huggingface_hub import login\n",
        "login()"
      ]
    },
    {
      "cell_type": "code",
      "execution_count": null,
      "metadata": {
        "colab": {
          "referenced_widgets": [
            "060316f2051549d18657317ec12d7f97",
            "8b93be21d1c949a08ac42e7a57cf8b8a",
            "9eb516422d92456ca6211ca40b567cd7",
            "dddca76d18be4dc29fe2482e2ba83851",
            "cba11eec41284064992fd73a8d99b08d",
            "63a2a9dfa0504f8f8b20088bfc5026d8",
            "fd30aa3046b547bd99f9a14afa302aed",
            "544cc7d7215a4d9b857a4c3cca2ceae7",
            "2f2d5cce0e41436493d3e14223b7faf1",
            "c7899f22f196419faee2e8bfa12fbbbe",
            "2ffa1701986a49f2a301c121755c8ca1",
            "98d1bae33ccf476c9048143dbf828fff",
            "96a7b704b6964c73b4beb29471291bb3",
            "21f21bc30f1e4f3f843781810d960d24"
          ]
        },
        "execution": {
          "iopub.execute_input": "2024-02-21T20:40:40.883328Z",
          "iopub.status.busy": "2024-02-21T20:40:40.882955Z",
          "iopub.status.idle": "2024-02-21T20:41:14.176408Z",
          "shell.execute_reply": "2024-02-21T20:41:14.175640Z",
          "shell.execute_reply.started": "2024-02-21T20:40:40.883298Z"
        },
        "id": "6VuJWk378fm-",
        "outputId": "427367ac-1e83-4686-ab69-403ad627f233"
      },
      "outputs": [
        {
          "data": {
            "application/vnd.jupyter.widget-view+json": {
              "model_id": "544cc7d7215a4d9b857a4c3cca2ceae7",
              "version_major": 2,
              "version_minor": 0
            },
            "text/plain": [
              "config.json:   0%|          | 0.00/863 [00:00<?, ?B/s]"
            ]
          },
          "metadata": {},
          "output_type": "display_data"
        },
        {
          "data": {
            "application/vnd.jupyter.widget-view+json": {
              "model_id": "2f2d5cce0e41436493d3e14223b7faf1",
              "version_major": 2,
              "version_minor": 0
            },
            "text/plain": [
              "model.safetensors.index.json:   0%|          | 0.00/35.7k [00:00<?, ?B/s]"
            ]
          },
          "metadata": {},
          "output_type": "display_data"
        },
        {
          "data": {
            "application/vnd.jupyter.widget-view+json": {
              "model_id": "c7899f22f196419faee2e8bfa12fbbbe",
              "version_major": 2,
              "version_minor": 0
            },
            "text/plain": [
              "Downloading shards:   0%|          | 0/2 [00:00<?, ?it/s]"
            ]
          },
          "metadata": {},
          "output_type": "display_data"
        },
        {
          "data": {
            "application/vnd.jupyter.widget-view+json": {
              "model_id": "2ffa1701986a49f2a301c121755c8ca1",
              "version_major": 2,
              "version_minor": 0
            },
            "text/plain": [
              "model-00001-of-00002.safetensors:   0%|          | 0.00/5.00G [00:00<?, ?B/s]"
            ]
          },
          "metadata": {},
          "output_type": "display_data"
        },
        {
          "data": {
            "application/vnd.jupyter.widget-view+json": {
              "model_id": "98d1bae33ccf476c9048143dbf828fff",
              "version_major": 2,
              "version_minor": 0
            },
            "text/plain": [
              "model-00002-of-00002.safetensors:   0%|          | 0.00/564M [00:00<?, ?B/s]"
            ]
          },
          "metadata": {},
          "output_type": "display_data"
        },
        {
          "data": {
            "application/vnd.jupyter.widget-view+json": {
              "model_id": "96a7b704b6964c73b4beb29471291bb3",
              "version_major": 2,
              "version_minor": 0
            },
            "text/plain": [
              "Loading checkpoint shards:   0%|          | 0/2 [00:00<?, ?it/s]"
            ]
          },
          "metadata": {},
          "output_type": "display_data"
        },
        {
          "data": {
            "application/vnd.jupyter.widget-view+json": {
              "model_id": "21f21bc30f1e4f3f843781810d960d24",
              "version_major": 2,
              "version_minor": 0
            },
            "text/plain": [
              "generation_config.json:   0%|          | 0.00/124 [00:00<?, ?B/s]"
            ]
          },
          "metadata": {},
          "output_type": "display_data"
        }
      ],
      "source": [
        "model = AutoModelForCausalLM.from_pretrained(\n",
        "    config.base_model_name_or_path,\n",
        "    return_dict = True,\n",
        "    load_in_4bit = True,\n",
        "    device_map = \"auto\"\n",
        "\n",
        ")"
      ]
    },
    {
      "cell_type": "code",
      "execution_count": null,
      "metadata": {
        "execution": {
          "iopub.execute_input": "2024-02-21T20:41:31.706426Z",
          "iopub.status.busy": "2024-02-21T20:41:31.705835Z",
          "iopub.status.idle": "2024-02-21T20:41:31.710404Z",
          "shell.execute_reply": "2024-02-21T20:41:31.709533Z",
          "shell.execute_reply.started": "2024-02-21T20:41:31.706398Z"
        },
        "id": "Fo4fEs7e8fm_"
      },
      "outputs": [],
      "source": [
        "from transformers import AutoTokenizer"
      ]
    },
    {
      "cell_type": "code",
      "execution_count": null,
      "metadata": {
        "colab": {
          "referenced_widgets": [
            "89b350ab7fc448b28a3eb12e725f1a97",
            "b1fe01ce1f9c4767a9ddc4bb04bedd9f",
            "8b5e9b00a58e4709b4f1462fd67dc84c",
            "31fb584cf2c14a7c9b067a4829e8c2aa",
            "684f6d4aea024459935f53bdaeb5f489",
            "aae7ddde94854ce990b1be5f27490709",
            "e94346dc195f4874bad431ab1381851d",
            "6977c325cfde45a5801162c341b78f3f",
            "6c3ef30c4f7d4291bae2bc50a9b44e58",
            "3aa69b713c4f4bf983d1ef6bdd82845c"
          ]
        },
        "execution": {
          "iopub.execute_input": "2024-02-21T20:41:36.069626Z",
          "iopub.status.busy": "2024-02-21T20:41:36.068829Z",
          "iopub.status.idle": "2024-02-21T20:41:37.657472Z",
          "shell.execute_reply": "2024-02-21T20:41:37.656490Z",
          "shell.execute_reply.started": "2024-02-21T20:41:36.069585Z"
        },
        "id": "hhktnb1B8fm_",
        "outputId": "9cca1031-3d1f-40d0-f52c-255c10061e7a"
      },
      "outputs": [
        {
          "data": {
            "application/vnd.jupyter.widget-view+json": {
              "model_id": "684f6d4aea024459935f53bdaeb5f489",
              "version_major": 2,
              "version_minor": 0
            },
            "text/plain": [
              "tokenizer_config.json:   0%|          | 0.00/7.34k [00:00<?, ?B/s]"
            ]
          },
          "metadata": {},
          "output_type": "display_data"
        },
        {
          "data": {
            "application/vnd.jupyter.widget-view+json": {
              "model_id": "aae7ddde94854ce990b1be5f27490709",
              "version_major": 2,
              "version_minor": 0
            },
            "text/plain": [
              "vocab.json:   0%|          | 0.00/798k [00:00<?, ?B/s]"
            ]
          },
          "metadata": {},
          "output_type": "display_data"
        },
        {
          "data": {
            "application/vnd.jupyter.widget-view+json": {
              "model_id": "e94346dc195f4874bad431ab1381851d",
              "version_major": 2,
              "version_minor": 0
            },
            "text/plain": [
              "merges.txt:   0%|          | 0.00/456k [00:00<?, ?B/s]"
            ]
          },
          "metadata": {},
          "output_type": "display_data"
        },
        {
          "data": {
            "application/vnd.jupyter.widget-view+json": {
              "model_id": "6977c325cfde45a5801162c341b78f3f",
              "version_major": 2,
              "version_minor": 0
            },
            "text/plain": [
              "tokenizer.json:   0%|          | 0.00/2.11M [00:00<?, ?B/s]"
            ]
          },
          "metadata": {},
          "output_type": "display_data"
        },
        {
          "data": {
            "application/vnd.jupyter.widget-view+json": {
              "model_id": "6c3ef30c4f7d4291bae2bc50a9b44e58",
              "version_major": 2,
              "version_minor": 0
            },
            "text/plain": [
              "added_tokens.json:   0%|          | 0.00/1.08k [00:00<?, ?B/s]"
            ]
          },
          "metadata": {},
          "output_type": "display_data"
        },
        {
          "data": {
            "application/vnd.jupyter.widget-view+json": {
              "model_id": "3aa69b713c4f4bf983d1ef6bdd82845c",
              "version_major": 2,
              "version_minor": 0
            },
            "text/plain": [
              "special_tokens_map.json:   0%|          | 0.00/99.0 [00:00<?, ?B/s]"
            ]
          },
          "metadata": {},
          "output_type": "display_data"
        },
        {
          "name": "stderr",
          "output_type": "stream",
          "text": [
            "Special tokens have been added in the vocabulary, make sure the associated word embeddings are fine-tuned or trained.\n"
          ]
        }
      ],
      "source": [
        "tokenizer = AutoTokenizer.from_pretrained(\n",
        "    config.base_model_name_or_path,\n",
        "    padding_size = \"right\",\n",
        "    add_eos_token = True,\n",
        "\n",
        ")\n",
        "tokenizer.pad_token = tokenizer.eos_token"
      ]
    },
    {
      "cell_type": "code",
      "execution_count": null,
      "metadata": {
        "colab": {
          "referenced_widgets": [
            "980c644111a8442491108ae96244a1ea",
            "4f817b9cb96f4df7b288945c948752e5"
          ]
        },
        "execution": {
          "iopub.execute_input": "2024-02-21T20:41:49.428988Z",
          "iopub.status.busy": "2024-02-21T20:41:49.428400Z",
          "iopub.status.idle": "2024-02-21T20:41:53.520252Z",
          "shell.execute_reply": "2024-02-21T20:41:53.519462Z",
          "shell.execute_reply.started": "2024-02-21T20:41:49.428956Z"
        },
        "id": "UODAYceQ8fnA",
        "outputId": "886e8512-ff4a-455b-8243-ff6819fe6e59"
      },
      "outputs": [
        {
          "data": {
            "application/vnd.jupyter.widget-view+json": {
              "model_id": "4f817b9cb96f4df7b288945c948752e5",
              "version_major": 2,
              "version_minor": 0
            },
            "text/plain": [
              "adapter_model.safetensors:   0%|          | 0.00/542M [00:00<?, ?B/s]"
            ]
          },
          "metadata": {},
          "output_type": "display_data"
        }
      ],
      "source": [
        "from peft import PeftModel\n",
        "\n",
        "fine_tuned_model = PeftModel.from_pretrained(\n",
        "    model,\n",
        "    peft_model_id\n",
        ")"
      ]
    },
    {
      "cell_type": "code",
      "execution_count": null,
      "metadata": {
        "execution": {
          "iopub.execute_input": "2024-02-21T20:44:11.296354Z",
          "iopub.status.busy": "2024-02-21T20:44:11.295448Z",
          "iopub.status.idle": "2024-02-21T20:44:26.176805Z",
          "shell.execute_reply": "2024-02-21T20:44:26.176005Z",
          "shell.execute_reply.started": "2024-02-21T20:44:11.296320Z"
        },
        "id": "1FUnLAHL8fnA",
        "outputId": "d81dd3df-2889-492d-e27d-ee8e36caa78e"
      },
      "outputs": [
        {
          "name": "stderr",
          "output_type": "stream",
          "text": [
            "2024-02-21 20:44:13.501323: E external/local_xla/xla/stream_executor/cuda/cuda_dnn.cc:9261] Unable to register cuDNN factory: Attempting to register factory for plugin cuDNN when one has already been registered\n",
            "2024-02-21 20:44:13.501453: E external/local_xla/xla/stream_executor/cuda/cuda_fft.cc:607] Unable to register cuFFT factory: Attempting to register factory for plugin cuFFT when one has already been registered\n",
            "2024-02-21 20:44:13.661991: E external/local_xla/xla/stream_executor/cuda/cuda_blas.cc:1515] Unable to register cuBLAS factory: Attempting to register factory for plugin cuBLAS when one has already been registered\n"
          ]
        }
      ],
      "source": [
        "from transformers import pipeline, logging"
      ]
    },
    {
      "cell_type": "code",
      "execution_count": null,
      "metadata": {
        "execution": {
          "iopub.execute_input": "2024-02-21T20:45:13.588449Z",
          "iopub.status.busy": "2024-02-21T20:45:13.587258Z",
          "iopub.status.idle": "2024-02-21T20:45:13.593058Z",
          "shell.execute_reply": "2024-02-21T20:45:13.592115Z",
          "shell.execute_reply.started": "2024-02-21T20:45:13.588413Z"
        },
        "id": "vHUCBuzM8fnB"
      },
      "outputs": [],
      "source": [
        "logging.set_verbosity(logging.CRITICAL)"
      ]
    },
    {
      "cell_type": "code",
      "execution_count": null,
      "metadata": {
        "execution": {
          "iopub.execute_input": "2024-02-21T20:45:25.107200Z",
          "iopub.status.busy": "2024-02-21T20:45:25.106829Z",
          "iopub.status.idle": "2024-02-21T20:45:25.113407Z",
          "shell.execute_reply": "2024-02-21T20:45:25.112168Z",
          "shell.execute_reply.started": "2024-02-21T20:45:25.107170Z"
        },
        "id": "qOqRdnZW8fnB"
      },
      "outputs": [],
      "source": [
        "from transformers import pipeline\n",
        "import torch\n",
        "\n",
        "pipe = pipeline(\n",
        "    \"text-generation\",\n",
        "    model=model,\n",
        "    tokenizer = tokenizer,\n",
        "    torch_dtype = torch.bfloat16,\n",
        "    device_map = \"auto\"\n",
        "\n",
        ")"
      ]
    },
    {
      "cell_type": "code",
      "execution_count": null,
      "metadata": {
        "execution": {
          "iopub.execute_input": "2024-02-21T20:50:47.767540Z",
          "iopub.status.busy": "2024-02-21T20:50:47.766914Z",
          "iopub.status.idle": "2024-02-21T20:50:50.838564Z",
          "shell.execute_reply": "2024-02-21T20:50:50.837652Z",
          "shell.execute_reply.started": "2024-02-21T20:50:47.767510Z"
        },
        "id": "kROS22Mz8fnB"
      },
      "outputs": [],
      "source": [
        "prompt = \"<s>Instruct:\"+\"What is the heaviest element?\"+\"/Output:\"\n",
        "#prompt = \"What is the heaviest element?\"\n",
        "\n",
        "# torch.backends.cuda.enable_mem_efficient_sdp(False)\n",
        "# torch.backends.cuda.enable_flash_sdp(False)\n",
        "# torch.cuda.memory_summary(device=None, abbreviated=False)\n",
        "\n",
        "sequence = pipe(\n",
        "    prompt,\n",
        "    do_sample = True,\n",
        "    max_new_tokens = 30,\n",
        "    temperature = 0.2,\n",
        "    top_k = 2,\n",
        "    top_p = 1.0,\n",
        ")\n"
      ]
    },
    {
      "cell_type": "code",
      "execution_count": null,
      "metadata": {
        "execution": {
          "iopub.execute_input": "2024-02-21T20:51:57.162498Z",
          "iopub.status.busy": "2024-02-21T20:51:57.161831Z",
          "iopub.status.idle": "2024-02-21T20:51:57.166919Z",
          "shell.execute_reply": "2024-02-21T20:51:57.165986Z",
          "shell.execute_reply.started": "2024-02-21T20:51:57.162450Z"
        },
        "id": "UdzdF2XP8fnC",
        "outputId": "7c1fcdf5-3713-4623-bea1-d4a70f15fbd2"
      },
      "outputs": [
        {
          "name": "stdout",
          "output_type": "stream",
          "text": [
            "<s>Instruct:What is the heaviest element?/Output:Uranium</s>\n",
            "    \n",
            "    \n",
            "    \n",
            "    \n",
            "    \n",
            "    \n",
            "    \n",
            "    \n",
            "    \n",
            "    \n",
            "    \n",
            "    \n"
          ]
        }
      ],
      "source": [
        "print(sequence[0]['generated_text'])"
      ]
    },
    {
      "cell_type": "code",
      "execution_count": null,
      "metadata": {
        "execution": {
          "iopub.execute_input": "2024-02-21T20:52:21.066809Z",
          "iopub.status.busy": "2024-02-21T20:52:21.066194Z",
          "iopub.status.idle": "2024-02-21T20:52:21.071769Z",
          "shell.execute_reply": "2024-02-21T20:52:21.070776Z",
          "shell.execute_reply.started": "2024-02-21T20:52:21.066778Z"
        },
        "id": "XfOd01lk8fnC"
      },
      "outputs": [],
      "source": [
        "def Sequence(promt):\n",
        "    sequence = pipe(\n",
        "    prompt,\n",
        "    do_sample = True,\n",
        "    max_new_tokens = 30,\n",
        "    temperature = 0.1,\n",
        "    top_k = 2,\n",
        "    top_p = 1.0,\n",
        "    pad_token_id=tokenizer.eos_token_id\n",
        "    )\n",
        "    return sequence"
      ]
    },
    {
      "cell_type": "code",
      "execution_count": null,
      "metadata": {
        "execution": {
          "iopub.execute_input": "2024-02-21T20:53:32.830726Z",
          "iopub.status.busy": "2024-02-21T20:53:32.829850Z",
          "iopub.status.idle": "2024-02-21T20:53:35.886074Z",
          "shell.execute_reply": "2024-02-21T20:53:35.885164Z",
          "shell.execute_reply.started": "2024-02-21T20:53:32.830692Z"
        },
        "id": "5_woRvSF8fnC",
        "outputId": "2c428bd2-9414-48e5-e7b6-672470d31d04"
      },
      "outputs": [
        {
          "name": "stdout",
          "output_type": "stream",
          "text": [
            "<s>Instruct:What is the heaviest element?/Output:Uranium</s>\n",
            "    \n",
            "    \n",
            "    \n",
            "    \n",
            "    \n",
            "    \n",
            "    \n",
            "    \n",
            "    \n",
            "    \n",
            "    \n",
            "    \n"
          ]
        }
      ],
      "source": [
        "prompt = \"<s>Instruct:\"+\"What is the heaviest element?\"+\"/Output:\"\n",
        "\n",
        "print(Sequence(prompt)[0]['generated_text'])"
      ]
    },
    {
      "cell_type": "code",
      "execution_count": null,
      "metadata": {
        "execution": {
          "iopub.execute_input": "2024-02-21T20:55:06.791029Z",
          "iopub.status.busy": "2024-02-21T20:55:06.790209Z",
          "iopub.status.idle": "2024-02-21T20:55:10.482506Z",
          "shell.execute_reply": "2024-02-21T20:55:10.481661Z",
          "shell.execute_reply.started": "2024-02-21T20:55:06.790995Z"
        },
        "id": "3iBxVKcX8fnD",
        "outputId": "3a43b7c2-b6aa-4788-bb6a-544c11bbc1d3",
        "colab": {
          "referenced_widgets": [
            "c1816b8f6561473ea811deb22b9eeb1e",
            "6354460bfd15458bb7b476b2d48eedb1",
            "31f062d2c2b34f2ea96f63257f9a62b1",
            "",
            "ee4c3520749e4d28b549c607cef6c975"
          ]
        }
      },
      "outputs": [
        {
          "data": {
            "application/vnd.jupyter.widget-view+json": {
              "model_id": "c1816b8f6561473ea811deb22b9eeb1e",
              "version_major": 2,
              "version_minor": 0
            },
            "text/plain": [
              "Downloading builder script:   0%|          | 0.00/1.32k [00:00<?, ?B/s]"
            ]
          },
          "metadata": {},
          "output_type": "display_data"
        },
        {
          "data": {
            "application/vnd.jupyter.widget-view+json": {
              "model_id": "6354460bfd15458bb7b476b2d48eedb1",
              "version_major": 2,
              "version_minor": 0
            },
            "text/plain": [
              "Downloading metadata:   0%|          | 0.00/817 [00:00<?, ?B/s]"
            ]
          },
          "metadata": {},
          "output_type": "display_data"
        },
        {
          "name": "stdout",
          "output_type": "stream",
          "text": [
            "Downloading and preparing dataset sciq/default (download: 2.69 MiB, generated: 7.32 MiB, post-processed: Unknown size, total: 10.01 MiB) to /root/.cache/huggingface/datasets/sciq/default/0.1.0/50e5c6e3795b55463819d399ec417bfd4c3c621105e00295ddb5f3633d708493...\n"
          ]
        },
        {
          "data": {
            "application/vnd.jupyter.widget-view+json": {
              "model_id": "31f062d2c2b34f2ea96f63257f9a62b1",
              "version_major": 2,
              "version_minor": 0
            },
            "text/plain": [
              "Downloading data:   0%|          | 0.00/2.82M [00:00<?, ?B/s]"
            ]
          },
          "metadata": {},
          "output_type": "display_data"
        },
        {
          "data": {
            "application/vnd.jupyter.widget-view+json": {
              "model_id": "",
              "version_major": 2,
              "version_minor": 0
            },
            "text/plain": [
              "Generating train split:   0%|          | 0/11679 [00:00<?, ? examples/s]"
            ]
          },
          "metadata": {},
          "output_type": "display_data"
        },
        {
          "data": {
            "application/vnd.jupyter.widget-view+json": {
              "model_id": "",
              "version_major": 2,
              "version_minor": 0
            },
            "text/plain": [
              "Generating validation split:   0%|          | 0/1000 [00:00<?, ? examples/s]"
            ]
          },
          "metadata": {},
          "output_type": "display_data"
        },
        {
          "data": {
            "application/vnd.jupyter.widget-view+json": {
              "model_id": "",
              "version_major": 2,
              "version_minor": 0
            },
            "text/plain": [
              "Generating test split:   0%|          | 0/1000 [00:00<?, ? examples/s]"
            ]
          },
          "metadata": {},
          "output_type": "display_data"
        },
        {
          "name": "stdout",
          "output_type": "stream",
          "text": [
            "Dataset sciq downloaded and prepared to /root/.cache/huggingface/datasets/sciq/default/0.1.0/50e5c6e3795b55463819d399ec417bfd4c3c621105e00295ddb5f3633d708493. Subsequent calls will reuse this data.\n"
          ]
        },
        {
          "data": {
            "application/vnd.jupyter.widget-view+json": {
              "model_id": "ee4c3520749e4d28b549c607cef6c975",
              "version_major": 2,
              "version_minor": 0
            },
            "text/plain": [
              "  0%|          | 0/3 [00:00<?, ?it/s]"
            ]
          },
          "metadata": {},
          "output_type": "display_data"
        }
      ],
      "source": [
        "from datasets import load_dataset\n",
        "\n",
        "dataset = load_dataset(\"sciq\")"
      ]
    },
    {
      "cell_type": "code",
      "execution_count": null,
      "metadata": {
        "colab": {
          "referenced_widgets": [
            "ec6d24bda20c45d5bb28f8646dfdca97"
          ]
        },
        "execution": {
          "iopub.execute_input": "2024-02-21T20:55:28.341215Z",
          "iopub.status.busy": "2024-02-21T20:55:28.340233Z",
          "iopub.status.idle": "2024-02-21T20:55:28.347541Z",
          "shell.execute_reply": "2024-02-21T20:55:28.346737Z",
          "shell.execute_reply.started": "2024-02-21T20:55:28.341181Z"
        },
        "id": "i1f9T7U58fnD",
        "outputId": "19d42ea5-45aa-48a4-b2cf-0e5c7a57c67e"
      },
      "outputs": [
        {
          "data": {
            "text/plain": [
              "DatasetDict({\n",
              "    train: Dataset({\n",
              "        features: ['question', 'distractor3', 'distractor1', 'distractor2', 'correct_answer', 'support'],\n",
              "        num_rows: 11679\n",
              "    })\n",
              "    validation: Dataset({\n",
              "        features: ['question', 'distractor3', 'distractor1', 'distractor2', 'correct_answer', 'support'],\n",
              "        num_rows: 1000\n",
              "    })\n",
              "    test: Dataset({\n",
              "        features: ['question', 'distractor3', 'distractor1', 'distractor2', 'correct_answer', 'support'],\n",
              "        num_rows: 1000\n",
              "    })\n",
              "})"
            ]
          },
          "execution_count": 36,
          "metadata": {},
          "output_type": "execute_result"
        }
      ],
      "source": [
        "dataset"
      ]
    },
    {
      "cell_type": "code",
      "execution_count": null,
      "metadata": {
        "execution": {
          "iopub.execute_input": "2024-02-21T20:55:39.005138Z",
          "iopub.status.busy": "2024-02-21T20:55:39.004322Z",
          "iopub.status.idle": "2024-02-21T20:55:39.258537Z",
          "shell.execute_reply": "2024-02-21T20:55:39.257804Z",
          "shell.execute_reply.started": "2024-02-21T20:55:39.005108Z"
        },
        "id": "FTfA2PaI8fnE"
      },
      "outputs": [],
      "source": [
        "dataset_validation = load_dataset('sciq',split='validation[:20%]') #first %20 of validation data"
      ]
    },
    {
      "cell_type": "code",
      "execution_count": null,
      "metadata": {
        "execution": {
          "iopub.execute_input": "2024-02-21T20:55:48.576968Z",
          "iopub.status.busy": "2024-02-21T20:55:48.576244Z",
          "iopub.status.idle": "2024-02-21T20:55:48.582891Z",
          "shell.execute_reply": "2024-02-21T20:55:48.581976Z",
          "shell.execute_reply.started": "2024-02-21T20:55:48.576936Z"
        },
        "id": "_-kvXD9TVOll",
        "outputId": "3d196310-c2cc-462c-b975-f930c153cefe"
      },
      "outputs": [
        {
          "data": {
            "text/plain": [
              "Dataset({\n",
              "    features: ['question', 'distractor3', 'distractor1', 'distractor2', 'correct_answer', 'support'],\n",
              "    num_rows: 200\n",
              "})"
            ]
          },
          "execution_count": 38,
          "metadata": {},
          "output_type": "execute_result"
        }
      ],
      "source": [
        "dataset_validation"
      ]
    },
    {
      "cell_type": "code",
      "execution_count": null,
      "metadata": {
        "execution": {
          "iopub.execute_input": "2024-02-21T20:56:56.591883Z",
          "iopub.status.busy": "2024-02-21T20:56:56.591495Z",
          "iopub.status.idle": "2024-02-21T21:06:55.102500Z",
          "shell.execute_reply": "2024-02-21T21:06:55.101717Z",
          "shell.execute_reply.started": "2024-02-21T20:56:56.591855Z"
        },
        "id": "s6xLqXlHVOll",
        "outputId": "fefb1928-35a8-412c-c12c-cf1ce80d9f38"
      },
      "outputs": [
        {
          "name": "stderr",
          "output_type": "stream",
          "text": [
            "/opt/conda/lib/python3.10/site-packages/transformers/pipelines/base.py:1123: UserWarning: You seem to be using the pipelines sequentially on GPU. In order to maximize efficiency please use a dataset\n",
            "  warnings.warn(\n"
          ]
        }
      ],
      "source": [
        "answers = []\n",
        "for question in dataset_validation[\"question\"]:\n",
        "    prompt = \"<s>Instruct:\"+question+\"/Output:\"\n",
        "    output_sequences = Sequence(prompt)[0]['generated_text']\n",
        "    question_and_answer = output_sequences.split(\"/Output:\")\n",
        "    answer = question_and_answer[1]\n",
        "    answers.append(answer)"
      ]
    },
    {
      "cell_type": "code",
      "execution_count": null,
      "metadata": {
        "execution": {
          "iopub.execute_input": "2024-02-21T21:15:45.022514Z",
          "iopub.status.busy": "2024-02-21T21:15:45.021644Z",
          "iopub.status.idle": "2024-02-21T21:15:58.024156Z",
          "shell.execute_reply": "2024-02-21T21:15:58.022777Z",
          "shell.execute_reply.started": "2024-02-21T21:15:45.022481Z"
        },
        "id": "Vyj-ILo_VOll",
        "outputId": "a0936998-48f6-4e42-ab92-9aeceb7b71d9"
      },
      "outputs": [
        {
          "name": "stderr",
          "output_type": "stream",
          "text": [
            "huggingface/tokenizers: The current process just got forked, after parallelism has already been used. Disabling parallelism to avoid deadlocks...\n",
            "To disable this warning, you can either:\n",
            "\t- Avoid using `tokenizers` before the fork if possible\n",
            "\t- Explicitly set the environment variable TOKENIZERS_PARALLELISM=(true | false)\n"
          ]
        }
      ],
      "source": [
        "!pip install -q evaluate bert-score"
      ]
    },
    {
      "cell_type": "code",
      "execution_count": null,
      "metadata": {
        "execution": {
          "iopub.execute_input": "2024-02-21T21:19:45.043110Z",
          "iopub.status.busy": "2024-02-21T21:19:45.042755Z",
          "iopub.status.idle": "2024-02-21T21:19:49.567451Z",
          "shell.execute_reply": "2024-02-21T21:19:49.566482Z",
          "shell.execute_reply.started": "2024-02-21T21:19:45.043083Z"
        },
        "id": "VdtqnCHtVOlm",
        "outputId": "5c99d632-b578-4243-995b-33db5e87fe2b",
        "colab": {
          "referenced_widgets": [
            "8f2744f72eff456da2c8b6e6ad162b3b",
            "71ffbb6a851049aa839e560e17bc9133",
            "f8db4a92c37b4b4c917fe6a1cfdb313a",
            "754e63b8406a46e2ab78616755268d6d",
            "29b746765c7a406ca1cecedc01455f1f"
          ]
        }
      },
      "outputs": [
        {
          "data": {
            "application/vnd.jupyter.widget-view+json": {
              "model_id": "8f2744f72eff456da2c8b6e6ad162b3b",
              "version_major": 2,
              "version_minor": 0
            },
            "text/plain": [
              "tokenizer_config.json:   0%|          | 0.00/28.0 [00:00<?, ?B/s]"
            ]
          },
          "metadata": {},
          "output_type": "display_data"
        },
        {
          "data": {
            "application/vnd.jupyter.widget-view+json": {
              "model_id": "71ffbb6a851049aa839e560e17bc9133",
              "version_major": 2,
              "version_minor": 0
            },
            "text/plain": [
              "config.json:   0%|          | 0.00/483 [00:00<?, ?B/s]"
            ]
          },
          "metadata": {},
          "output_type": "display_data"
        },
        {
          "data": {
            "application/vnd.jupyter.widget-view+json": {
              "model_id": "f8db4a92c37b4b4c917fe6a1cfdb313a",
              "version_major": 2,
              "version_minor": 0
            },
            "text/plain": [
              "vocab.txt:   0%|          | 0.00/232k [00:00<?, ?B/s]"
            ]
          },
          "metadata": {},
          "output_type": "display_data"
        },
        {
          "data": {
            "application/vnd.jupyter.widget-view+json": {
              "model_id": "754e63b8406a46e2ab78616755268d6d",
              "version_major": 2,
              "version_minor": 0
            },
            "text/plain": [
              "tokenizer.json:   0%|          | 0.00/466k [00:00<?, ?B/s]"
            ]
          },
          "metadata": {},
          "output_type": "display_data"
        },
        {
          "data": {
            "application/vnd.jupyter.widget-view+json": {
              "model_id": "29b746765c7a406ca1cecedc01455f1f",
              "version_major": 2,
              "version_minor": 0
            },
            "text/plain": [
              "model.safetensors:   0%|          | 0.00/268M [00:00<?, ?B/s]"
            ]
          },
          "metadata": {},
          "output_type": "display_data"
        },
        {
          "name": "stdout",
          "output_type": "stream",
          "text": [
            "precision:  0.75496\n",
            "recall:  0.83209\n",
            "f1:  0.78678\n"
          ]
        }
      ],
      "source": [
        "from evaluate import load\n",
        "import numpy as np\n",
        "from bert_score import score\n",
        "\n",
        "bertscore = load(\"bertscore\")\n",
        "predictions = answers\n",
        "references = dataset_validation[\"correct_answer\"]\n",
        "results = bertscore.compute(predictions=predictions, references=references, model_type=\"distilbert-base-uncased\")\n",
        "print(\"precision: \",round(np.mean(list(results[\"precision\"])),5))\n",
        "print(\"recall: \",round(np.mean(list(results[\"recall\"])),5))\n",
        "print(\"f1: \",round(np.mean(list(results[\"f1\"])),5))"
      ]
    },
    {
      "cell_type": "code",
      "execution_count": null,
      "metadata": {
        "id": "SAGvn_4ZVOlm"
      },
      "outputs": [],
      "source": []
    }
  ],
  "metadata": {
    "colab": {
      "provenance": [],
      "include_colab_link": true
    },
    "kaggle": {
      "accelerator": "nvidiaTeslaT4",
      "dataSources": [],
      "dockerImageVersionId": 30648,
      "isGpuEnabled": true,
      "isInternetEnabled": true,
      "language": "python",
      "sourceType": "notebook"
    },
    "kernelspec": {
      "display_name": "Python 3 (ipykernel)",
      "language": "python",
      "name": "python3"
    },
    "language_info": {
      "codemirror_mode": {
        "name": "ipython",
        "version": 3
      },
      "file_extension": ".py",
      "mimetype": "text/x-python",
      "name": "python",
      "nbconvert_exporter": "python",
      "pygments_lexer": "ipython3",
      "version": "3.11.5"
    }
  },
  "nbformat": 4,
  "nbformat_minor": 0
}