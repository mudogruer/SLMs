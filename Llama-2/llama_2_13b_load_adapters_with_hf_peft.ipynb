{
  "cells": [
    {
      "cell_type": "markdown",
      "metadata": {
        "id": "view-in-github",
        "colab_type": "text"
      },
      "source": [
        "<a href=\"https://colab.research.google.com/github/mudogruer/SLMs/blob/main/Llama-2/llama_2_13b_load_adapters_with_hf_peft.ipynb\" target=\"_parent\"><img src=\"https://colab.research.google.com/assets/colab-badge.svg\" alt=\"Open In Colab\"/></a>"
      ]
    },
    {
      "cell_type": "code",
      "execution_count": null,
      "metadata": {
        "execution": {
          "iopub.execute_input": "2024-02-22T19:17:08.189663Z",
          "iopub.status.busy": "2024-02-22T19:17:08.189407Z",
          "iopub.status.idle": "2024-02-22T19:17:25.540640Z",
          "shell.execute_reply": "2024-02-22T19:17:25.539576Z",
          "shell.execute_reply.started": "2024-02-22T19:17:08.189638Z"
        },
        "id": "jbvoL29PY0xH"
      },
      "outputs": [],
      "source": [
        "!pip install -q -U peft bitsandbytes evaluate bert-score"
      ]
    },
    {
      "cell_type": "code",
      "execution_count": null,
      "metadata": {
        "execution": {
          "iopub.execute_input": "2024-02-22T19:17:25.545618Z",
          "iopub.status.busy": "2024-02-22T19:17:25.545360Z",
          "iopub.status.idle": "2024-02-22T19:17:32.672907Z",
          "shell.execute_reply": "2024-02-22T19:17:32.671815Z",
          "shell.execute_reply.started": "2024-02-22T19:17:25.545590Z"
        },
        "id": "rrOuvos9Y0xI"
      },
      "outputs": [],
      "source": [
        "from peft import PeftConfig"
      ]
    },
    {
      "cell_type": "code",
      "execution_count": null,
      "metadata": {
        "execution": {
          "iopub.execute_input": "2024-02-22T19:17:32.675705Z",
          "iopub.status.busy": "2024-02-22T19:17:32.675169Z",
          "iopub.status.idle": "2024-02-22T19:17:32.680155Z",
          "shell.execute_reply": "2024-02-22T19:17:32.679255Z",
          "shell.execute_reply.started": "2024-02-22T19:17:32.675649Z"
        },
        "id": "NCSNun7pY0xJ"
      },
      "outputs": [],
      "source": [
        "peft_model_id = \"mudogruer/Llama-2-13b-hf-SciQ-20pc\""
      ]
    },
    {
      "cell_type": "code",
      "execution_count": null,
      "metadata": {
        "execution": {
          "iopub.execute_input": "2024-02-22T19:18:10.150543Z",
          "iopub.status.busy": "2024-02-22T19:18:10.150181Z",
          "iopub.status.idle": "2024-02-22T19:18:10.581499Z",
          "shell.execute_reply": "2024-02-22T19:18:10.580524Z",
          "shell.execute_reply.started": "2024-02-22T19:18:10.150516Z"
        },
        "id": "TyOh0hM5Y0xK",
        "outputId": "91d20f43-4ef1-49c1-a541-caca1deccd11",
        "colab": {
          "referenced_widgets": [
            "31438821902340f38ef48579daa9a8ab"
          ]
        }
      },
      "outputs": [
        {
          "data": {
            "application/vnd.jupyter.widget-view+json": {
              "model_id": "31438821902340f38ef48579daa9a8ab",
              "version_major": 2,
              "version_minor": 0
            },
            "text/plain": [
              "adapter_config.json:   0%|          | 0.00/697 [00:00<?, ?B/s]"
            ]
          },
          "metadata": {},
          "output_type": "display_data"
        }
      ],
      "source": [
        "config = PeftConfig.from_pretrained(peft_model_id)"
      ]
    },
    {
      "cell_type": "code",
      "execution_count": null,
      "metadata": {
        "execution": {
          "iopub.execute_input": "2024-02-22T19:18:10.989557Z",
          "iopub.status.busy": "2024-02-22T19:18:10.989253Z",
          "iopub.status.idle": "2024-02-22T19:18:10.993869Z",
          "shell.execute_reply": "2024-02-22T19:18:10.992989Z",
          "shell.execute_reply.started": "2024-02-22T19:18:10.989531Z"
        },
        "id": "sajmyxJ4Y0xL"
      },
      "outputs": [],
      "source": [
        "from transformers import BitsAndBytesConfig\n",
        "from transformers import AutoModelForCausalLM"
      ]
    },
    {
      "cell_type": "code",
      "execution_count": null,
      "metadata": {
        "execution": {
          "iopub.execute_input": "2024-02-22T19:18:13.673495Z",
          "iopub.status.busy": "2024-02-22T19:18:13.672785Z",
          "iopub.status.idle": "2024-02-22T19:18:13.698705Z",
          "shell.execute_reply": "2024-02-22T19:18:13.697823Z",
          "shell.execute_reply.started": "2024-02-22T19:18:13.673467Z"
        },
        "id": "C22Mi6n6Y0xL",
        "outputId": "8db16225-ff78-4d0e-d1b0-ba21a1f1ddf3",
        "colab": {
          "referenced_widgets": [
            "8f027bee754943f897b537abdd1325d6"
          ]
        }
      },
      "outputs": [
        {
          "data": {
            "application/vnd.jupyter.widget-view+json": {
              "model_id": "8f027bee754943f897b537abdd1325d6",
              "version_major": 2,
              "version_minor": 0
            },
            "text/plain": [
              "VBox(children=(HTML(value='<center> <img\\nsrc=https://huggingface.co/front/assets/huggingface_logo-noborder.sv…"
            ]
          },
          "metadata": {},
          "output_type": "display_data"
        }
      ],
      "source": [
        "from huggingface_hub import login\n",
        "login()"
      ]
    },
    {
      "cell_type": "code",
      "execution_count": null,
      "metadata": {
        "execution": {
          "iopub.execute_input": "2024-02-22T19:19:21.783516Z",
          "iopub.status.busy": "2024-02-22T19:19:21.782466Z",
          "iopub.status.idle": "2024-02-22T19:23:03.559343Z",
          "shell.execute_reply": "2024-02-22T19:23:03.558615Z",
          "shell.execute_reply.started": "2024-02-22T19:19:21.783477Z"
        },
        "id": "OHTaRgK8Y0xM",
        "outputId": "7426d0b1-3c8a-4f7b-8ce2-35a707ed893f",
        "colab": {
          "referenced_widgets": [
            "17d741051c764bf088529fdf89d6ecc8",
            "e48e8aa916b44a2e8d5da1f7de5de58c",
            "27ee69ec4ed549bbb066b5a10feee716",
            "2c467e0a545f4d31ae5c4996386a630a",
            "e5bab96a325344f1a15bfb1ada834f50",
            "0ea8430be8a24ceaa22137db2d92812f",
            "54ff051be3b246938ee16f6a2b4d12fc",
            "f144c6b22f0e4edc93236fbeb9e666fc"
          ]
        }
      },
      "outputs": [
        {
          "data": {
            "application/vnd.jupyter.widget-view+json": {
              "model_id": "17d741051c764bf088529fdf89d6ecc8",
              "version_major": 2,
              "version_minor": 0
            },
            "text/plain": [
              "config.json:   0%|          | 0.00/587 [00:00<?, ?B/s]"
            ]
          },
          "metadata": {},
          "output_type": "display_data"
        },
        {
          "data": {
            "application/vnd.jupyter.widget-view+json": {
              "model_id": "e48e8aa916b44a2e8d5da1f7de5de58c",
              "version_major": 2,
              "version_minor": 0
            },
            "text/plain": [
              "model.safetensors.index.json:   0%|          | 0.00/33.4k [00:00<?, ?B/s]"
            ]
          },
          "metadata": {},
          "output_type": "display_data"
        },
        {
          "data": {
            "application/vnd.jupyter.widget-view+json": {
              "model_id": "27ee69ec4ed549bbb066b5a10feee716",
              "version_major": 2,
              "version_minor": 0
            },
            "text/plain": [
              "Downloading shards:   0%|          | 0/3 [00:00<?, ?it/s]"
            ]
          },
          "metadata": {},
          "output_type": "display_data"
        },
        {
          "data": {
            "application/vnd.jupyter.widget-view+json": {
              "model_id": "2c467e0a545f4d31ae5c4996386a630a",
              "version_major": 2,
              "version_minor": 0
            },
            "text/plain": [
              "model-00001-of-00003.safetensors:   0%|          | 0.00/9.95G [00:00<?, ?B/s]"
            ]
          },
          "metadata": {},
          "output_type": "display_data"
        },
        {
          "data": {
            "application/vnd.jupyter.widget-view+json": {
              "model_id": "e5bab96a325344f1a15bfb1ada834f50",
              "version_major": 2,
              "version_minor": 0
            },
            "text/plain": [
              "model-00002-of-00003.safetensors:   0%|          | 0.00/9.90G [00:00<?, ?B/s]"
            ]
          },
          "metadata": {},
          "output_type": "display_data"
        },
        {
          "data": {
            "application/vnd.jupyter.widget-view+json": {
              "model_id": "0ea8430be8a24ceaa22137db2d92812f",
              "version_major": 2,
              "version_minor": 0
            },
            "text/plain": [
              "model-00003-of-00003.safetensors:   0%|          | 0.00/6.18G [00:00<?, ?B/s]"
            ]
          },
          "metadata": {},
          "output_type": "display_data"
        },
        {
          "data": {
            "application/vnd.jupyter.widget-view+json": {
              "model_id": "54ff051be3b246938ee16f6a2b4d12fc",
              "version_major": 2,
              "version_minor": 0
            },
            "text/plain": [
              "Loading checkpoint shards:   0%|          | 0/3 [00:00<?, ?it/s]"
            ]
          },
          "metadata": {},
          "output_type": "display_data"
        },
        {
          "data": {
            "application/vnd.jupyter.widget-view+json": {
              "model_id": "f144c6b22f0e4edc93236fbeb9e666fc",
              "version_major": 2,
              "version_minor": 0
            },
            "text/plain": [
              "generation_config.json:   0%|          | 0.00/188 [00:00<?, ?B/s]"
            ]
          },
          "metadata": {},
          "output_type": "display_data"
        }
      ],
      "source": [
        "model = AutoModelForCausalLM.from_pretrained(\n",
        "    config.base_model_name_or_path,\n",
        "    return_dict = True,\n",
        "    load_in_4bit = True,\n",
        "    device_map = \"auto\"\n",
        "\n",
        ")"
      ]
    },
    {
      "cell_type": "code",
      "execution_count": null,
      "metadata": {
        "execution": {
          "iopub.execute_input": "2024-02-22T19:26:20.400897Z",
          "iopub.status.busy": "2024-02-22T19:26:20.400246Z",
          "iopub.status.idle": "2024-02-22T19:26:20.405640Z",
          "shell.execute_reply": "2024-02-22T19:26:20.404680Z",
          "shell.execute_reply.started": "2024-02-22T19:26:20.400865Z"
        },
        "id": "acc6vIx8Y0xM"
      },
      "outputs": [],
      "source": [
        "from transformers import AutoTokenizer"
      ]
    },
    {
      "cell_type": "code",
      "execution_count": null,
      "metadata": {
        "execution": {
          "iopub.execute_input": "2024-02-22T19:26:22.964377Z",
          "iopub.status.busy": "2024-02-22T19:26:22.963766Z",
          "iopub.status.idle": "2024-02-22T19:26:24.593954Z",
          "shell.execute_reply": "2024-02-22T19:26:24.592979Z",
          "shell.execute_reply.started": "2024-02-22T19:26:22.964347Z"
        },
        "id": "Dof56IbBY0xM",
        "outputId": "063940ea-ed97-4c99-ac2f-a67070a48726",
        "colab": {
          "referenced_widgets": [
            "8ff32b7d5f9042c291e4f864c43f49a1",
            "58bc0a49666d4322972575e7b0a901c1",
            "70099120ba9049929c91be875b29b1ec",
            "bafeaef751b14c37ad91462df41c9c2f"
          ]
        }
      },
      "outputs": [
        {
          "data": {
            "application/vnd.jupyter.widget-view+json": {
              "model_id": "8ff32b7d5f9042c291e4f864c43f49a1",
              "version_major": 2,
              "version_minor": 0
            },
            "text/plain": [
              "tokenizer_config.json:   0%|          | 0.00/1.62k [00:00<?, ?B/s]"
            ]
          },
          "metadata": {},
          "output_type": "display_data"
        },
        {
          "data": {
            "application/vnd.jupyter.widget-view+json": {
              "model_id": "58bc0a49666d4322972575e7b0a901c1",
              "version_major": 2,
              "version_minor": 0
            },
            "text/plain": [
              "tokenizer.model:   0%|          | 0.00/500k [00:00<?, ?B/s]"
            ]
          },
          "metadata": {},
          "output_type": "display_data"
        },
        {
          "data": {
            "application/vnd.jupyter.widget-view+json": {
              "model_id": "70099120ba9049929c91be875b29b1ec",
              "version_major": 2,
              "version_minor": 0
            },
            "text/plain": [
              "tokenizer.json:   0%|          | 0.00/1.84M [00:00<?, ?B/s]"
            ]
          },
          "metadata": {},
          "output_type": "display_data"
        },
        {
          "data": {
            "application/vnd.jupyter.widget-view+json": {
              "model_id": "bafeaef751b14c37ad91462df41c9c2f",
              "version_major": 2,
              "version_minor": 0
            },
            "text/plain": [
              "special_tokens_map.json:   0%|          | 0.00/414 [00:00<?, ?B/s]"
            ]
          },
          "metadata": {},
          "output_type": "display_data"
        }
      ],
      "source": [
        "tokenizer = AutoTokenizer.from_pretrained(\n",
        "    config.base_model_name_or_path,\n",
        "    padding_size = \"right\",\n",
        "    add_eos_token = True,\n",
        "\n",
        ")\n",
        "tokenizer.pad_token = tokenizer.eos_token"
      ]
    },
    {
      "cell_type": "code",
      "execution_count": null,
      "metadata": {
        "execution": {
          "iopub.execute_input": "2024-02-22T19:26:27.277373Z",
          "iopub.status.busy": "2024-02-22T19:26:27.276478Z",
          "iopub.status.idle": "2024-02-22T19:26:47.289076Z",
          "shell.execute_reply": "2024-02-22T19:26:47.288072Z",
          "shell.execute_reply.started": "2024-02-22T19:26:27.277338Z"
        },
        "id": "s9on2YNYY0xO",
        "outputId": "d48e49ad-f531-4602-80e5-7b91cff306ff",
        "colab": {
          "referenced_widgets": [
            "9a47e4821b5049a195c1a0e245c0a20f"
          ]
        }
      },
      "outputs": [
        {
          "data": {
            "application/vnd.jupyter.widget-view+json": {
              "model_id": "9a47e4821b5049a195c1a0e245c0a20f",
              "version_major": 2,
              "version_minor": 0
            },
            "text/plain": [
              "adapter_model.safetensors:   0%|          | 0.00/782M [00:00<?, ?B/s]"
            ]
          },
          "metadata": {},
          "output_type": "display_data"
        }
      ],
      "source": [
        "from peft import PeftModel\n",
        "\n",
        "fine_tuned_model = PeftModel.from_pretrained(\n",
        "    model,\n",
        "    peft_model_id\n",
        ")"
      ]
    },
    {
      "cell_type": "code",
      "execution_count": null,
      "metadata": {
        "execution": {
          "iopub.execute_input": "2024-02-22T19:26:49.387144Z",
          "iopub.status.busy": "2024-02-22T19:26:49.386763Z",
          "iopub.status.idle": "2024-02-22T19:27:03.780263Z",
          "shell.execute_reply": "2024-02-22T19:27:03.779497Z",
          "shell.execute_reply.started": "2024-02-22T19:26:49.387113Z"
        },
        "id": "cwC4VEmdY0xO",
        "outputId": "fb06b423-9b5b-4da2-8d20-b4c2cf4f827f"
      },
      "outputs": [
        {
          "name": "stderr",
          "output_type": "stream",
          "text": [
            "2024-02-22 19:26:51.212012: E external/local_xla/xla/stream_executor/cuda/cuda_dnn.cc:9261] Unable to register cuDNN factory: Attempting to register factory for plugin cuDNN when one has already been registered\n",
            "2024-02-22 19:26:51.212112: E external/local_xla/xla/stream_executor/cuda/cuda_fft.cc:607] Unable to register cuFFT factory: Attempting to register factory for plugin cuFFT when one has already been registered\n",
            "2024-02-22 19:26:51.362987: E external/local_xla/xla/stream_executor/cuda/cuda_blas.cc:1515] Unable to register cuBLAS factory: Attempting to register factory for plugin cuBLAS when one has already been registered\n"
          ]
        }
      ],
      "source": [
        "from transformers import pipeline, logging"
      ]
    },
    {
      "cell_type": "code",
      "execution_count": null,
      "metadata": {
        "execution": {
          "iopub.execute_input": "2024-02-22T19:27:05.158507Z",
          "iopub.status.busy": "2024-02-22T19:27:05.157840Z",
          "iopub.status.idle": "2024-02-22T19:27:05.163122Z",
          "shell.execute_reply": "2024-02-22T19:27:05.162162Z",
          "shell.execute_reply.started": "2024-02-22T19:27:05.158475Z"
        },
        "id": "GFw7TYSZY0xP"
      },
      "outputs": [],
      "source": [
        "logging.set_verbosity(logging.CRITICAL)"
      ]
    },
    {
      "cell_type": "code",
      "execution_count": null,
      "metadata": {
        "execution": {
          "iopub.execute_input": "2024-02-22T19:27:07.437449Z",
          "iopub.status.busy": "2024-02-22T19:27:07.436611Z",
          "iopub.status.idle": "2024-02-22T19:27:07.442473Z",
          "shell.execute_reply": "2024-02-22T19:27:07.441379Z",
          "shell.execute_reply.started": "2024-02-22T19:27:07.437415Z"
        },
        "id": "DOihL6qsY0xP"
      },
      "outputs": [],
      "source": [
        "pipe = pipeline(\n",
        "    task = \"text-generation\",\n",
        "    model = fine_tuned_model,\n",
        "    tokenizer = tokenizer,\n",
        "    eos_token_id = model.config.eos_token_id,\n",
        "    max_new_tokens = 30,\n",
        "\n",
        ")"
      ]
    },
    {
      "cell_type": "code",
      "execution_count": null,
      "metadata": {
        "execution": {
          "iopub.execute_input": "2024-02-22T19:27:07.855860Z",
          "iopub.status.busy": "2024-02-22T19:27:07.855347Z",
          "iopub.status.idle": "2024-02-22T19:27:12.100871Z",
          "shell.execute_reply": "2024-02-22T19:27:12.100088Z",
          "shell.execute_reply.started": "2024-02-22T19:27:07.855831Z"
        },
        "id": "akNk3CBcY0xP",
        "outputId": "5d6521a4-e09d-4755-c463-577637a808e7"
      },
      "outputs": [
        {
          "name": "stderr",
          "output_type": "stream",
          "text": [
            "/opt/conda/lib/python3.10/site-packages/bitsandbytes/nn/modules.py:226: UserWarning: Input type into Linear4bit is torch.float16, but bnb_4bit_compute_dtype=torch.float32 (default). This will lead to slow inference or training speed.\n",
            "  warnings.warn(f'Input type into Linear4bit is torch.float16, but bnb_4bit_compute_dtype=torch.float32 (default). This will lead to slow inference or training speed.')\n"
          ]
        }
      ],
      "source": [
        "prompt = \"Which molecule in the air is the most?\"\n",
        "result = pipe(f\"<s>[INST]{prompt}[/INST]\")"
      ]
    },
    {
      "cell_type": "code",
      "execution_count": null,
      "metadata": {
        "execution": {
          "iopub.execute_input": "2024-02-22T19:27:12.103032Z",
          "iopub.status.busy": "2024-02-22T19:27:12.102579Z",
          "iopub.status.idle": "2024-02-22T19:27:12.109843Z",
          "shell.execute_reply": "2024-02-22T19:27:12.108905Z",
          "shell.execute_reply.started": "2024-02-22T19:27:12.102999Z"
        },
        "id": "mhjIWBpQY0xP",
        "outputId": "6e8f8db6-c82d-4db6-df2f-4912ffac8c74"
      },
      "outputs": [
        {
          "data": {
            "text/plain": [
              "[{'generated_text': '<s>[INST]Which molecule in the air is the most?[/INST] nitrogen'}]"
            ]
          },
          "execution_count": 15,
          "metadata": {},
          "output_type": "execute_result"
        }
      ],
      "source": [
        "result"
      ]
    },
    {
      "cell_type": "code",
      "execution_count": null,
      "metadata": {
        "execution": {
          "iopub.execute_input": "2024-02-22T19:28:42.410937Z",
          "iopub.status.busy": "2024-02-22T19:28:42.410166Z",
          "iopub.status.idle": "2024-02-22T19:28:42.415956Z",
          "shell.execute_reply": "2024-02-22T19:28:42.414982Z",
          "shell.execute_reply.started": "2024-02-22T19:28:42.410905Z"
        },
        "id": "DMsL6Py-Y0xP"
      },
      "outputs": [],
      "source": [
        "def Sequence(promt):\n",
        "    sequence = pipe(\n",
        "    prompt,\n",
        "    do_sample = True,\n",
        "    max_new_tokens = 30,\n",
        "    temperature = 0.1,\n",
        "    top_k = 2,\n",
        "    top_p = 1.0,\n",
        "    pad_token_id=tokenizer.eos_token_id\n",
        "    )\n",
        "    return sequence"
      ]
    },
    {
      "cell_type": "code",
      "execution_count": null,
      "metadata": {
        "execution": {
          "iopub.execute_input": "2024-02-22T19:30:22.965444Z",
          "iopub.status.busy": "2024-02-22T19:30:22.965071Z",
          "iopub.status.idle": "2024-02-22T19:30:24.255460Z",
          "shell.execute_reply": "2024-02-22T19:30:24.254486Z",
          "shell.execute_reply.started": "2024-02-22T19:30:22.965414Z"
        },
        "id": "QPE3mLAiY0xQ",
        "outputId": "512e3bfe-b108-4c31-f1cf-a6aa3b9c285d"
      },
      "outputs": [
        {
          "name": "stdout",
          "output_type": "stream",
          "text": [
            "<s>[INST]Which is the heaviest element?[/INST] oxygen\n"
          ]
        }
      ],
      "source": [
        "prompt = \"<s>[INST]\"+\"Which is the heaviest element?\"+\"[/INST]\"\n",
        "print(Sequence(prompt)[0]['generated_text'])"
      ]
    },
    {
      "cell_type": "code",
      "execution_count": null,
      "metadata": {
        "execution": {
          "iopub.execute_input": "2024-02-22T19:30:50.541424Z",
          "iopub.status.busy": "2024-02-22T19:30:50.540755Z",
          "iopub.status.idle": "2024-02-22T19:30:56.300528Z",
          "shell.execute_reply": "2024-02-22T19:30:56.299657Z",
          "shell.execute_reply.started": "2024-02-22T19:30:50.541394Z"
        },
        "id": "XFWoUWc4Y0xQ",
        "outputId": "f7ff2c15-6ec5-43f8-b3a9-a11e195d2242",
        "colab": {
          "referenced_widgets": [
            "19c97bc2fe3a417aa9be7c754513b3cc",
            "814111e60e884f14851ab20f14b0bb2a",
            "e5bd93e384d94cde9fd676c8d65f5680",
            "",
            "84f6bc8db1e74309ba1939f24b869a71"
          ]
        }
      },
      "outputs": [
        {
          "data": {
            "application/vnd.jupyter.widget-view+json": {
              "model_id": "19c97bc2fe3a417aa9be7c754513b3cc",
              "version_major": 2,
              "version_minor": 0
            },
            "text/plain": [
              "Downloading builder script:   0%|          | 0.00/1.32k [00:00<?, ?B/s]"
            ]
          },
          "metadata": {},
          "output_type": "display_data"
        },
        {
          "data": {
            "application/vnd.jupyter.widget-view+json": {
              "model_id": "814111e60e884f14851ab20f14b0bb2a",
              "version_major": 2,
              "version_minor": 0
            },
            "text/plain": [
              "Downloading metadata:   0%|          | 0.00/817 [00:00<?, ?B/s]"
            ]
          },
          "metadata": {},
          "output_type": "display_data"
        },
        {
          "name": "stdout",
          "output_type": "stream",
          "text": [
            "Downloading and preparing dataset sciq/default (download: 2.69 MiB, generated: 7.32 MiB, post-processed: Unknown size, total: 10.01 MiB) to /root/.cache/huggingface/datasets/sciq/default/0.1.0/50e5c6e3795b55463819d399ec417bfd4c3c621105e00295ddb5f3633d708493...\n"
          ]
        },
        {
          "data": {
            "application/vnd.jupyter.widget-view+json": {
              "model_id": "e5bd93e384d94cde9fd676c8d65f5680",
              "version_major": 2,
              "version_minor": 0
            },
            "text/plain": [
              "Downloading data:   0%|          | 0.00/2.82M [00:00<?, ?B/s]"
            ]
          },
          "metadata": {},
          "output_type": "display_data"
        },
        {
          "data": {
            "application/vnd.jupyter.widget-view+json": {
              "model_id": "",
              "version_major": 2,
              "version_minor": 0
            },
            "text/plain": [
              "Generating train split:   0%|          | 0/11679 [00:00<?, ? examples/s]"
            ]
          },
          "metadata": {},
          "output_type": "display_data"
        },
        {
          "data": {
            "application/vnd.jupyter.widget-view+json": {
              "model_id": "",
              "version_major": 2,
              "version_minor": 0
            },
            "text/plain": [
              "Generating validation split:   0%|          | 0/1000 [00:00<?, ? examples/s]"
            ]
          },
          "metadata": {},
          "output_type": "display_data"
        },
        {
          "data": {
            "application/vnd.jupyter.widget-view+json": {
              "model_id": "",
              "version_major": 2,
              "version_minor": 0
            },
            "text/plain": [
              "Generating test split:   0%|          | 0/1000 [00:00<?, ? examples/s]"
            ]
          },
          "metadata": {},
          "output_type": "display_data"
        },
        {
          "name": "stdout",
          "output_type": "stream",
          "text": [
            "Dataset sciq downloaded and prepared to /root/.cache/huggingface/datasets/sciq/default/0.1.0/50e5c6e3795b55463819d399ec417bfd4c3c621105e00295ddb5f3633d708493. Subsequent calls will reuse this data.\n"
          ]
        },
        {
          "data": {
            "application/vnd.jupyter.widget-view+json": {
              "model_id": "84f6bc8db1e74309ba1939f24b869a71",
              "version_major": 2,
              "version_minor": 0
            },
            "text/plain": [
              "  0%|          | 0/3 [00:00<?, ?it/s]"
            ]
          },
          "metadata": {},
          "output_type": "display_data"
        }
      ],
      "source": [
        "from datasets import load_dataset\n",
        "\n",
        "dataset = load_dataset(\"sciq\")"
      ]
    },
    {
      "cell_type": "code",
      "execution_count": null,
      "metadata": {
        "execution": {
          "iopub.execute_input": "2024-02-22T19:31:01.569994Z",
          "iopub.status.busy": "2024-02-22T19:31:01.568935Z",
          "iopub.status.idle": "2024-02-22T19:31:02.036780Z",
          "shell.execute_reply": "2024-02-22T19:31:02.036047Z",
          "shell.execute_reply.started": "2024-02-22T19:31:01.569962Z"
        },
        "id": "UZFsoqyCY0xQ"
      },
      "outputs": [],
      "source": [
        "dataset_validation = load_dataset('sciq',split='validation[:20%]') #first %20 of validation data"
      ]
    },
    {
      "cell_type": "code",
      "execution_count": null,
      "metadata": {
        "execution": {
          "iopub.execute_input": "2024-02-22T19:31:08.121293Z",
          "iopub.status.busy": "2024-02-22T19:31:08.120921Z",
          "iopub.status.idle": "2024-02-22T19:31:08.127363Z",
          "shell.execute_reply": "2024-02-22T19:31:08.126425Z",
          "shell.execute_reply.started": "2024-02-22T19:31:08.121263Z"
        },
        "id": "SzMUW9__Y0xQ",
        "outputId": "9a4eb8e2-f01d-48ea-dadf-dd79cf38797c"
      },
      "outputs": [
        {
          "data": {
            "text/plain": [
              "Dataset({\n",
              "    features: ['question', 'distractor3', 'distractor1', 'distractor2', 'correct_answer', 'support'],\n",
              "    num_rows: 200\n",
              "})"
            ]
          },
          "execution_count": 22,
          "metadata": {},
          "output_type": "execute_result"
        }
      ],
      "source": [
        "dataset_validation"
      ]
    },
    {
      "cell_type": "code",
      "execution_count": null,
      "metadata": {
        "execution": {
          "iopub.execute_input": "2024-02-22T19:32:08.580342Z",
          "iopub.status.busy": "2024-02-22T19:32:08.579514Z",
          "iopub.status.idle": "2024-02-22T19:49:06.791848Z",
          "shell.execute_reply": "2024-02-22T19:49:06.790935Z",
          "shell.execute_reply.started": "2024-02-22T19:32:08.580307Z"
        },
        "id": "1pFwWCFZY0xQ",
        "outputId": "53d4760e-966f-4d46-de5f-d2213e7e53a7"
      },
      "outputs": [
        {
          "name": "stderr",
          "output_type": "stream",
          "text": [
            "/opt/conda/lib/python3.10/site-packages/transformers/pipelines/base.py:1123: UserWarning: You seem to be using the pipelines sequentially on GPU. In order to maximize efficiency please use a dataset\n",
            "  warnings.warn(\n"
          ]
        }
      ],
      "source": [
        "answers = []\n",
        "for question in dataset_validation[\"question\"]:\n",
        "    prompt = \"<s>[INST]\"+question+\"[/INST]:\"\n",
        "    output_sequences = Sequence(prompt)[0]['generated_text']\n",
        "    question_and_answer = output_sequences.split(\"[/INST]\")\n",
        "    answer = question_and_answer[1]\n",
        "    answers.append(answer)"
      ]
    },
    {
      "cell_type": "code",
      "execution_count": null,
      "metadata": {
        "execution": {
          "iopub.execute_input": "2024-02-22T19:49:20.613321Z",
          "iopub.status.busy": "2024-02-22T19:49:20.613026Z",
          "iopub.status.idle": "2024-02-22T19:49:25.654900Z",
          "shell.execute_reply": "2024-02-22T19:49:25.653539Z",
          "shell.execute_reply.started": "2024-02-22T19:49:20.613284Z"
        },
        "id": "UEecxXpsY0xR",
        "outputId": "aa3671f0-0f1e-4ae1-a9ad-7417a93f628b",
        "colab": {
          "referenced_widgets": [
            "37e3ea2325754379aec5285b81a58d2c",
            "61b8ee3962814e3991ed36ecbe237add",
            "42b93899c65f4a7390ea3da0a14bd0df",
            "2e140a225cc14c68b29c088052d4aafc",
            "0b5b4331eba643088f9ca590310ebd9a",
            "9c3c825cdd0047389b6cb5f7f21b74af"
          ]
        }
      },
      "outputs": [
        {
          "data": {
            "application/vnd.jupyter.widget-view+json": {
              "model_id": "37e3ea2325754379aec5285b81a58d2c",
              "version_major": 2,
              "version_minor": 0
            },
            "text/plain": [
              "Downloading builder script:   0%|          | 0.00/7.95k [00:00<?, ?B/s]"
            ]
          },
          "metadata": {},
          "output_type": "display_data"
        },
        {
          "data": {
            "application/vnd.jupyter.widget-view+json": {
              "model_id": "61b8ee3962814e3991ed36ecbe237add",
              "version_major": 2,
              "version_minor": 0
            },
            "text/plain": [
              "tokenizer_config.json:   0%|          | 0.00/28.0 [00:00<?, ?B/s]"
            ]
          },
          "metadata": {},
          "output_type": "display_data"
        },
        {
          "data": {
            "application/vnd.jupyter.widget-view+json": {
              "model_id": "42b93899c65f4a7390ea3da0a14bd0df",
              "version_major": 2,
              "version_minor": 0
            },
            "text/plain": [
              "config.json:   0%|          | 0.00/483 [00:00<?, ?B/s]"
            ]
          },
          "metadata": {},
          "output_type": "display_data"
        },
        {
          "data": {
            "application/vnd.jupyter.widget-view+json": {
              "model_id": "2e140a225cc14c68b29c088052d4aafc",
              "version_major": 2,
              "version_minor": 0
            },
            "text/plain": [
              "vocab.txt:   0%|          | 0.00/232k [00:00<?, ?B/s]"
            ]
          },
          "metadata": {},
          "output_type": "display_data"
        },
        {
          "data": {
            "application/vnd.jupyter.widget-view+json": {
              "model_id": "0b5b4331eba643088f9ca590310ebd9a",
              "version_major": 2,
              "version_minor": 0
            },
            "text/plain": [
              "tokenizer.json:   0%|          | 0.00/466k [00:00<?, ?B/s]"
            ]
          },
          "metadata": {},
          "output_type": "display_data"
        },
        {
          "data": {
            "application/vnd.jupyter.widget-view+json": {
              "model_id": "9c3c825cdd0047389b6cb5f7f21b74af",
              "version_major": 2,
              "version_minor": 0
            },
            "text/plain": [
              "model.safetensors:   0%|          | 0.00/268M [00:00<?, ?B/s]"
            ]
          },
          "metadata": {},
          "output_type": "display_data"
        },
        {
          "name": "stdout",
          "output_type": "stream",
          "text": [
            "precision:  0.66426\n",
            "recall:  0.81022\n",
            "f1:  0.72845\n"
          ]
        }
      ],
      "source": [
        "from evaluate import load\n",
        "import numpy as np\n",
        "from bert_score import score\n",
        "\n",
        "bertscore = load(\"bertscore\")\n",
        "predictions = answers\n",
        "references = dataset_validation[\"correct_answer\"]\n",
        "results = bertscore.compute(predictions=predictions, references=references, model_type=\"distilbert-base-uncased\")\n",
        "print(\"precision: \",round(np.mean(list(results[\"precision\"])),5))\n",
        "print(\"recall: \",round(np.mean(list(results[\"recall\"])),5))\n",
        "print(\"f1: \",round(np.mean(list(results[\"f1\"])),5))"
      ]
    },
    {
      "cell_type": "code",
      "execution_count": null,
      "metadata": {
        "id": "bawhxwgsY0xS"
      },
      "outputs": [],
      "source": []
    }
  ],
  "metadata": {
    "kaggle": {
      "accelerator": "nvidiaTeslaT4",
      "dataSources": [],
      "dockerImageVersionId": 30648,
      "isGpuEnabled": true,
      "isInternetEnabled": true,
      "language": "python",
      "sourceType": "notebook"
    },
    "kernelspec": {
      "display_name": "Python 3 (ipykernel)",
      "language": "python",
      "name": "python3"
    },
    "language_info": {
      "codemirror_mode": {
        "name": "ipython",
        "version": 3
      },
      "file_extension": ".py",
      "mimetype": "text/x-python",
      "name": "python",
      "nbconvert_exporter": "python",
      "pygments_lexer": "ipython3",
      "version": "3.11.5"
    },
    "colab": {
      "provenance": [],
      "include_colab_link": true
    }
  },
  "nbformat": 4,
  "nbformat_minor": 0
}